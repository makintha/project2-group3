{
 "cells": [
  {
   "cell_type": "code",
   "execution_count": 1,
   "metadata": {},
   "outputs": [],
   "source": [
    "import pandas as pd\r\n",
    "import matplotlib.pyplot as plt\r\n",
    "import scipy.stats as sts\r\n",
    "import numpy as np\r\n",
    "\r\n",
    "parks = pd.read_csv(\"../Resources/state-park-facility-points-1.csv\")\r\n",
    "attendance = pd.read_csv(\"../Resources/State_Park_Annual_Attendance_Figures_by_Facility___Beginning_2003.csv\")\r\n",
    "income = pd.read_csv(\"../Resources/Median Household Income by County.csv\")\r\n",
    "population = pd.read_csv(\"../Resources/Population Estimates by County.csv\")"
   ]
  },
  {
   "cell_type": "code",
   "execution_count": 2,
   "metadata": {},
   "outputs": [],
   "source": [
    "parks = parks.drop(columns=['Facility URL', 'Golf URL', 'Nature Center URL', 'Location']).fillna('N')"
   ]
  },
  {
   "cell_type": "code",
   "execution_count": 3,
   "metadata": {},
   "outputs": [],
   "source": [
    "parks = parks.sort_values(by='Name')\r\n",
    "parks\r\n",
    "parks.to_csv(r'processed/StatePark.csv', index = False, header=True)"
   ]
  },
  {
   "cell_type": "code",
   "execution_count": 4,
   "metadata": {
    "scrolled": true
   },
   "outputs": [
    {
     "name": "stderr",
     "output_type": "stream",
     "text": [
      "C:\\ProgramData\\Anaconda3\\lib\\site-packages\\pandas\\core\\frame.py:4441: SettingWithCopyWarning: \n",
      "A value is trying to be set on a copy of a slice from a DataFrame\n",
      "\n",
      "See the caveats in the documentation: https://pandas.pydata.org/pandas-docs/stable/user_guide/indexing.html#returning-a-view-versus-a-copy\n",
      "  return super().rename(\n",
      "C:\\ProgramData\\Anaconda3\\lib\\site-packages\\pandas\\core\\dtypes\\cast.py:1302: VisibleDeprecationWarning: Creating an ndarray from ragged nested sequences (which is a list-or-tuple of lists-or-tuples-or ndarrays with different lengths or shapes) is deprecated. If you meant to do this, you must specify 'dtype=object' when creating the ndarray.\n",
      "  v = np.array(v, copy=False)\n",
      "C:\\ProgramData\\Anaconda3\\lib\\site-packages\\pandas\\core\\dtypes\\cast.py:1672: VisibleDeprecationWarning: Creating an ndarray from ragged nested sequences (which is a list-or-tuple of lists-or-tuples-or ndarrays with different lengths or shapes) is deprecated. If you meant to do this, you must specify 'dtype=object' when creating the ndarray.\n",
      "  subarr = np.array(values, dtype=dtype, copy=copy)\n",
      "C:\\ProgramData\\Anaconda3\\lib\\site-packages\\numpy\\core\\_asarray.py:102: VisibleDeprecationWarning: Creating an ndarray from ragged nested sequences (which is a list-or-tuple of lists-or-tuples-or ndarrays with different lengths or shapes) is deprecated. If you meant to do this, you must specify 'dtype=object' when creating the ndarray.\n",
      "  return array(a, dtype, copy=False, order=order)\n"
     ]
    }
   ],
   "source": [
    "att2019 = attendance[attendance[\"Year\"] == 2019]\r\n",
    "att2019.rename(columns={'Facility': 'Name'}, inplace=True)\r\n",
    "att2019 = att2019.sort_values(by = 'Name')\r\n",
    "grouped_att = att2019.groupby(['County'])['Attendance'].sum()\r\n",
    "grouped_county = att2019.groupby(['County'])['County']\r\n",
    "\r\n",
    "park_att = pd.DataFrame({'County': grouped_county , 'Attendance': grouped_att})\r\n",
    "\r\n",
    "# park_att['County']= park_att.index\r\n",
    "# park_att.reset_index(drop=True, inplace=True)\r\n",
    "# df['text_new'] = df['text'].str.split('::').str[0]"
   ]
  },
  {
   "cell_type": "code",
   "execution_count": 5,
   "metadata": {},
   "outputs": [],
   "source": [
    "income['Median Household Income by County'] = income['Median Household Income by County'].str.replace('County', '')\r\n",
    "income.drop(income.tail(1).index,inplace=True)\r\n",
    "income.drop(income.head(1).index,inplace=True)\r\n",
    "income.rename(columns={'Median Household Income by County':'County', 'Unnamed: 1': 'Income', 'Unnamed: 2': 'Margin of Error'}, inplace=True)\r\n",
    "income.to_csv (r'processed/income.csv', index = False, header=True)"
   ]
  },
  {
   "cell_type": "code",
   "execution_count": 6,
   "metadata": {
    "scrolled": false
   },
   "outputs": [],
   "source": [
    "population['Population Estimates by County'] = population['Population Estimates by County'].str.replace('County', '')\n",
    "population.drop(income.tail(1).index,inplace=True)\n",
    "population.drop(income.head(1).index,inplace=True)\n",
    "population.rename(columns={'Population Estimates by County':'County', 'Unnamed: 1': 'Population'}, inplace=True)"
   ]
  },
  {
   "cell_type": "code",
   "execution_count": 7,
   "metadata": {},
   "outputs": [],
   "source": [
    "population.to_csv (r'processed/population.csv', index = False, header=True)"
   ]
  },
  {
   "cell_type": "code",
   "execution_count": 8,
   "metadata": {},
   "outputs": [],
   "source": [
    "att2019.to_csv (r'processed/2019_Attendance.csv', index = False, header=True)\r\n",
    "park_att.to_csv (r'processed/park_county_attendance.csv', index = False, header=True)\r\n"
   ]
  },
  {
   "cell_type": "code",
   "execution_count": 9,
   "metadata": {},
   "outputs": [],
   "source": [
    "import sqlite3 as sql\r\n",
    "cleaned_data = pd.read_csv(\"processed/county_attendance_income_pop.csv\")\r\n",
    "conn = sql.connect('newyork.db')"
   ]
  },
  {
   "cell_type": "code",
   "execution_count": 10,
   "metadata": {},
   "outputs": [
    {
     "data": {
      "text/plain": [
       "<sqlite3.Cursor at 0x210f7209f80>"
      ]
     },
     "execution_count": 10,
     "metadata": {},
     "output_type": "execute_result"
    }
   ],
   "source": [
    "conn.execute(\"DROP TABLE IF EXISTS county_data\")\r\n",
    "\r\n",
    "conn.execute('''CREATE TABLE county_data (\r\n",
    "    County TEXT PRIMARY KEY,  \r\n",
    "    Attendance INT, \r\n",
    "    Income INT, \r\n",
    "    Population INT\r\n",
    ")''')"
   ]
  },
  {
   "cell_type": "code",
   "execution_count": 11,
   "metadata": {
    "scrolled": false
   },
   "outputs": [
    {
     "data": {
      "text/html": [
       "<div>\n",
       "<style scoped>\n",
       "    .dataframe tbody tr th:only-of-type {\n",
       "        vertical-align: middle;\n",
       "    }\n",
       "\n",
       "    .dataframe tbody tr th {\n",
       "        vertical-align: top;\n",
       "    }\n",
       "\n",
       "    .dataframe thead th {\n",
       "        text-align: right;\n",
       "    }\n",
       "</style>\n",
       "<table border=\"1\" class=\"dataframe\">\n",
       "  <thead>\n",
       "    <tr style=\"text-align: right;\">\n",
       "      <th></th>\n",
       "      <th>County</th>\n",
       "      <th>Attendance</th>\n",
       "      <th>Income</th>\n",
       "      <th>Population</th>\n",
       "    </tr>\n",
       "  </thead>\n",
       "  <tbody>\n",
       "    <tr>\n",
       "      <th>0</th>\n",
       "      <td>Albany</td>\n",
       "      <td>692080</td>\n",
       "      <td>66252</td>\n",
       "      <td>305506</td>\n",
       "    </tr>\n",
       "    <tr>\n",
       "      <th>1</th>\n",
       "      <td>Allegany</td>\n",
       "      <td>50133</td>\n",
       "      <td>48412</td>\n",
       "      <td>46091</td>\n",
       "    </tr>\n",
       "    <tr>\n",
       "      <th>2</th>\n",
       "      <td>Bronx</td>\n",
       "      <td>339868</td>\n",
       "      <td>40088</td>\n",
       "      <td>1418207</td>\n",
       "    </tr>\n",
       "    <tr>\n",
       "      <th>3</th>\n",
       "      <td>Broome</td>\n",
       "      <td>252508</td>\n",
       "      <td>52226</td>\n",
       "      <td>190488</td>\n",
       "    </tr>\n",
       "    <tr>\n",
       "      <th>4</th>\n",
       "      <td>Cattaraugus</td>\n",
       "      <td>1521210</td>\n",
       "      <td>48703</td>\n",
       "      <td>76117</td>\n",
       "    </tr>\n",
       "    <tr>\n",
       "      <th>...</th>\n",
       "      <td>...</td>\n",
       "      <td>...</td>\n",
       "      <td>...</td>\n",
       "      <td>...</td>\n",
       "    </tr>\n",
       "    <tr>\n",
       "      <th>57</th>\n",
       "      <td>Washington</td>\n",
       "      <td>8588</td>\n",
       "      <td>57258</td>\n",
       "      <td>61204</td>\n",
       "    </tr>\n",
       "    <tr>\n",
       "      <th>58</th>\n",
       "      <td>Wayne</td>\n",
       "      <td>80599</td>\n",
       "      <td>59449</td>\n",
       "      <td>89918</td>\n",
       "    </tr>\n",
       "    <tr>\n",
       "      <th>59</th>\n",
       "      <td>Westchester</td>\n",
       "      <td>2351019</td>\n",
       "      <td>96610</td>\n",
       "      <td>967506</td>\n",
       "    </tr>\n",
       "    <tr>\n",
       "      <th>60</th>\n",
       "      <td>Wyoming</td>\n",
       "      <td>27031</td>\n",
       "      <td>58052</td>\n",
       "      <td>39859</td>\n",
       "    </tr>\n",
       "    <tr>\n",
       "      <th>61</th>\n",
       "      <td>Yates</td>\n",
       "      <td>116615</td>\n",
       "      <td>56563</td>\n",
       "      <td>24913</td>\n",
       "    </tr>\n",
       "  </tbody>\n",
       "</table>\n",
       "<p>62 rows × 4 columns</p>\n",
       "</div>"
      ],
      "text/plain": [
       "         County  Attendance  Income  Population\n",
       "0        Albany      692080   66252      305506\n",
       "1     Allegany        50133   48412       46091\n",
       "2         Bronx      339868   40088     1418207\n",
       "3        Broome      252508   52226      190488\n",
       "4   Cattaraugus     1521210   48703       76117\n",
       "..          ...         ...     ...         ...\n",
       "57   Washington        8588   57258       61204\n",
       "58        Wayne       80599   59449       89918\n",
       "59  Westchester     2351019   96610      967506\n",
       "60      Wyoming       27031   58052       39859\n",
       "61        Yates      116615   56563       24913\n",
       "\n",
       "[62 rows x 4 columns]"
      ]
     },
     "execution_count": 11,
     "metadata": {},
     "output_type": "execute_result"
    }
   ],
   "source": [
    "# cleaned_data['Income'] = cleaned_data['Income'].str.replace('$', '')\r\n",
    "# cleaned_data['Income'] = cleaned_data['Income'].str.replace(',', '')\r\n",
    "# cleaned_data['Population'] = cleaned_data['Population'].str.replace(',', '')\r\n",
    "# cleaned_data = cleaned_data.drop(columns=['Margin of Error'])\r\n",
    "\r\n",
    "cleaned_data\r\n",
    "cleaned_data.to_sql('county_data', conn, if_exists='append', index= False)\r\n",
    "cleaned_data.to_csv('county_data', index= False)\r\n",
    "explore = pd.read_sql(\"SELECT * FROM county_data\", conn)\r\n",
    "explore"
   ]
  },
  {
   "cell_type": "code",
   "execution_count": 12,
   "metadata": {},
   "outputs": [],
   "source": [
    "yearly_attendance = pd.read_csv(\"../Resources/State_Park_Annual_Attendance_Figures_by_Facility___Beginning_2003.csv\")\r\n",
    "yearly_attendance = yearly_attendance.sort_values(by='Year').drop(columns=['OPRHP Region', 'County'])\r\n",
    "\r\n",
    "yearly_attendance.to_csv (r'processed/yearly_attendance.csv', index = False, header=True)\r\n"
   ]
  },
  {
   "cell_type": "code",
   "execution_count": null,
   "metadata": {},
   "outputs": [],
   "source": []
  }
 ],
 "metadata": {
  "interpreter": {
   "hash": "b3ba2566441a7c06988d0923437866b63cedc61552a5af99d1f4fb67d367b25f"
  },
  "kernelspec": {
   "display_name": "Python 3.8.8 64-bit ('base': conda)",
   "name": "python3"
  },
  "language_info": {
   "codemirror_mode": {
    "name": "ipython",
    "version": 3
   },
   "file_extension": ".py",
   "mimetype": "text/x-python",
   "name": "python",
   "nbconvert_exporter": "python",
   "pygments_lexer": "ipython3",
   "version": "3.8.8"
  }
 },
 "nbformat": 4,
 "nbformat_minor": 4
}